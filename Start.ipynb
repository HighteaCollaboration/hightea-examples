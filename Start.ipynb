{
 "cells": [
  {
   "cell_type": "markdown",
   "metadata": {},
   "source": [
    "![alt text](./figs/hightea-logo.png \"Title\")"
   ]
  },
  {
   "cell_type": "markdown",
   "metadata": {},
   "source": [
    "# Welcome to the HighTEA user interface!\n",
    "\n",
    "The easiest way to get started with HighTEA is to have a look at our example and tutorial notebooks.\n",
    "\n",
    "A guided tutorial through the user interface:\n",
    "<p> <a href=./Tutorial.ipynb>Tutorial</a></p>\n",
    "\n",
    "A simple and minimal example of a top-quark pair analysis:\n",
    "<p> <a href=./Example-ttbar-simple.ipynb>Example-ttbar-simple.ipynb</a></p>\n",
    "\n",
    "A full fledged analysis of top-quark pair production and comparison to CMS data:\n",
    "<p> <a href=./Example-ttbar.ipynb>Example-ttbar.ipynb</a></p>\n",
    "\n",
    "An example to interact with HighTEA without using the interface library and direcly using the python API:\n",
    "<p> <a href=./Example-minimal.ipynb>Example-minimal.ipynb</a></p>\n",
    "\n",
    "# FAQ for the usuage within Google Colab\n",
    "\n",
    "## How can I use Google Drive to store results?\n",
    "The first step is to mount your drive (see also the Google Colab instructions here: TODO):\n",
    "```python\n",
    "from google.colab import drive\n",
    "drive.mount('/content/drive')\n",
    "```\n",
    "The next step is to specify the working directory to the hightea client software throught the optional constructor argument `directory` (in all example notebooks you do this by setting the USERDIR variable in the beginning of each notebook).\n",
    "\n",
    "Assuming now that you want to store the results in the directory `hightea/` on your drive (as mounted above) use the following argument when starting new jobs:\n",
    "```python\n",
    "job = hightea('jobname',directory='/content/drive/MyDrive/hightea/')\n",
    "```\n",
    "From now on all job data and exports are stored in that directory.\n",
    "\n",
    "## My notebook/browser/computer crashed, can I restore my work?\n",
    "In case you used the local drive of the Colab runtime the data is lost. If you stored it either by downloading the job data or by storing it your Google Drive you can recover it easily by just rerunning the notebook (assuming you mount again your drive etc., see above).\n",
    "\n",
    "  1. Usage with Google Drive: Just mount your drive as before and rerun the notebook.\n",
    "  2. Manually downloaded job data: After restarting the Colab runtime just upload the job data to the place it was.\n",
    "    \n",
    "A notificiation will let you know that the recovered data is used. You can re-execute any command you run before the crash, the software takes care that no inconsistencies are produced."
   ]
  }
 ],
 "metadata": {
  "colab": {
   "authorship_tag": "ABX9TyMaVZsuSh/SeHZ8cM3f1pKL",
   "collapsed_sections": [],
   "name": "Start.ipynb",
   "provenance": []
  },
  "kernelspec": {
   "display_name": "Python 3",
   "language": "python",
   "name": "python3"
  },
  "language_info": {
   "codemirror_mode": {
    "name": "ipython",
    "version": 3
   },
   "file_extension": ".py",
   "mimetype": "text/x-python",
   "name": "python",
   "nbconvert_exporter": "python",
   "pygments_lexer": "ipython3",
   "version": "3.7.6"
  }
 },
 "nbformat": 4,
 "nbformat_minor": 1
}
