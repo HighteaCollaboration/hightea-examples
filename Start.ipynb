{
 "cells": [
  {
   "cell_type": "markdown",
   "metadata": {},
   "source": [
    "![alt text](hightea-logo.png \"Title\")"
   ]
  },
  {
   "cell_type": "markdown",
   "metadata": {},
   "source": [
    "# Welcome to the HighTEA user interface!\n",
    "\n",
    "The easiest way to get started with HighTEA is to have a look at our example and tutorial notebooks. You either clone the repository and run the notebooks locally on your computer or you can use Google Colab.\n",
    "\n",
    "A guided tutorial through the user interface:\n",
    "<p> <a href=./tutorial/Tutorial.ipynb>Tutorial</a></p>\n",
    "\n",
    "A simple and minimal example of a top-quark pair analysis:\n",
    "<p> <a href=./examples/Example-ttbar-simple.ipynb>Example-ttbar-simple.ipynb</a></p>\n",
    "\n",
    "A full fledged analysis of top-quark pair production and comparison to CMS data:\n",
    "<p> <a href=./examples/Example-ttbar.ipynb>Example-ttbar.ipynb</a></p>\n",
    "\n",
    "An example to interact with HighTEA without using the interface library and direcly using the python API:\n",
    "<p> <a href=./examples/Example-minimal.ipynb>Example-minimal.ipynb</a></p>\n",
    "\n",
    "### Usage within Google Colab\n",
    "To use Google Colab you need the following steps:\n",
    "\n",
    "1. You need a Google account to create a Goolge Colab runtime. If you would like to modify and safe the notebooks a convienent way is the usage of Google drive.\n",
    "2. Copy any (or all) notebooks you'd like to use to your drive. To copy a notebook to your own Google Drive you need to do the following two easy steps: 1) open one of the example Notebooks given on this page and 2) click on the bottom \"Copy to Drive\". |At this point all notebooks are saved in your personal drive space. This allows you to run them, modify them and save them as you see fit. After this step, you do not need to come to this page anymore. You can directly got to your Google Drive and directly run any notebook you wish. The current page may be useful as it contains links to useful tips and Frequently Asked Questions.\n",
    "3. If you want to store analysis results in your Google drive please refer to the <a href=./TechnicalSupport.ipynb>FAQ</a> detailing the necessary steps to mount it in a Google Colab runtime. **Note** that you have to mount your drive every time you (re-) start a runtime.\n",
    "\n",
    "\n",
    "### Some help can be found here:\n",
    "\n",
    "Publication:\n",
    "TODO\n",
    "\n",
    "Some technical support for common tasks\n",
    "<p> <a href=./TechnicalSupport.ipynb>TechnicalSupport.ipynb</a></p>\n",
    "\n",
    "HighTEA interface documentation\n",
    "<p> <a href=\"https://hightea-client.readthedocs.io/\"> HighTEA Interface Docs</a></p>\n",
    "\n",
    "GitHub Page\n",
    "<p> <a href=\"https://github.com/HighteaCollaboration\"> HighteaCollaboration GitHub </a></p>"
   ]
  },
  {
   "cell_type": "code",
   "execution_count": null,
   "metadata": {},
   "outputs": [],
   "source": []
  }
 ],
 "metadata": {
  "colab": {
   "authorship_tag": "ABX9TyMaVZsuSh/SeHZ8cM3f1pKL",
   "collapsed_sections": [],
   "name": "Start.ipynb",
   "provenance": []
  },
  "kernelspec": {
   "display_name": "Python 3",
   "language": "python",
   "name": "python3"
  },
  "language_info": {
   "codemirror_mode": {
    "name": "ipython",
    "version": 3
   },
   "file_extension": ".py",
   "mimetype": "text/x-python",
   "name": "python",
   "nbconvert_exporter": "python",
   "pygments_lexer": "ipython3",
   "version": "3.7.10"
  }
 },
 "nbformat": 4,
 "nbformat_minor": 1
}
