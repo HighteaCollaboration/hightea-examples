{
 "cells": [
  {
   "cell_type": "markdown",
   "metadata": {},
   "source": [
    "# Welcome to\n",
    "\n",
    "<img src=\"hightea-logo.png\" width=400px>\n",
    "\n",
    "The easiest way to get started with HighTEA is to have a look at our example and tutorial notebooks. You either clone the repository and run the notebooks locally on your computer or you can use Google Colab.\n",
    "\n",
    "**A guided tutorial through the user interface:**\n",
    "<p> <a href=./tutorial/Tutorial.ipynb>Tutorial</a></p>\n",
    "\n",
    "**A simple and minimal example of a top-quark pair analysis:**\n",
    "<p> <a href=./examples/Example-ttbar-simple.ipynb>Example-ttbar-simple.ipynb</a></p>\n",
    "\n",
    "**A full fledged analysis of top-quark pair production and comparison to CMS data:**\n",
    "<p> <a href=./examples/Example-ttbar.ipynb>Example-ttbar.ipynb</a></p>\n",
    "\n",
    "**An example to interact with HighTEA without using the interface library and direcly using the python API:**\n",
    "<p> <a href=./examples/Example-minimal.ipynb>Example-minimal.ipynb</a></p>\n",
    "\n",
    "**An example including user login and authentication token**\n",
    "<p> <a href=./examples/Example-authentication.ipynb>Example-authentication.ipynb</a></p>\n",
    "\n",
    "**Some technical support**\n",
    "<p> <a href=./TechnicalSupport.ipynb>TechnicalSupport.ipynb</a></p>\n",
    "\n",
    "### Some help can be found here:\n",
    "\n",
    "Publication:\n",
    "TODO\n",
    "\n",
    "**Main Website**\n",
    "<p> <a href=\"https://www.precision.hep.phy.cam.ac.uk/hightea/\"> HighTEA webpage</a></p>\n",
    "\n",
    "**HighTEA interface documentation**\n",
    "<p> <a href=\"https://hightea-client.readthedocs.io/\"> HighTEA Interface Docs</a></p>\n",
    "\n",
    "**GitHub Page**\n",
    "<p> <a href=\"https://github.com/HighteaCollaboration\"> HighteaCollaboration GitHub </a></p>"
   ]
  }
 ],
 "metadata": {
  "colab": {
   "authorship_tag": "ABX9TyMaVZsuSh/SeHZ8cM3f1pKL",
   "collapsed_sections": [],
   "name": "Start.ipynb",
   "provenance": []
  },
  "kernelspec": {
   "display_name": "Python 3",
   "language": "python",
   "name": "python3"
  },
  "language_info": {
   "codemirror_mode": {
    "name": "ipython",
    "version": 3
   },
   "file_extension": ".py",
   "mimetype": "text/x-python",
   "name": "python",
   "nbconvert_exporter": "python",
   "pygments_lexer": "ipython3",
   "version": "3.7.10"
  }
 },
 "nbformat": 4,
 "nbformat_minor": 1
}
