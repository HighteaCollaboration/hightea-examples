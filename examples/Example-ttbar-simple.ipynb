{
 "cells": [
  {
   "cell_type": "code",
   "execution_count": 1,
   "metadata": {},
   "outputs": [],
   "source": [
    "# The user specifies if running notebook on GoogleColab or locally\n",
    "UseGoogleColab = True"
   ]
  },
  {
   "cell_type": "code",
   "execution_count": 2,
   "metadata": {
    "executionInfo": {
     "elapsed": 5413,
     "status": "ok",
     "timestamp": 1634656577675,
     "user": {
      "displayName": "Rene Poncelet",
      "photoUrl": "https://lh3.googleusercontent.com/a/default-user=s64",
      "userId": "08063036523313804008"
     },
     "user_tz": -60
    },
    "id": "mOMrNuKfrspp"
   },
   "outputs": [],
   "source": [
    "if UseGoogleColab:\n",
    "    from google.colab import drive\n",
    "    drive.mount('/content/drive')\n",
    "    USERDIR='/content/drive/MyDrive/hightea/'\n",
    "else:\n",
    "    USERDIR='.'\n",
    "\n",
    "#Install hightea client and plotting library\n",
    "%pip install hightea-client > /dev/null\n",
    "%pip install hightea-plotting > /dev/null\n",
    "from hightea.client import Interface as hightea\n",
    "from hightea.plotting import plot,Run"
   ]
  },
  {
   "cell_type": "markdown",
   "metadata": {},
   "source": [
    "A simple example job"
   ]
  },
  {
   "cell_type": "code",
   "execution_count": 3,
   "metadata": {},
   "outputs": [
    {
     "name": "stdout",
     "output_type": "stream",
     "text": [
      "   pp -> tt~ + X at 13 TeV mt = 172.5 GeV \n",
      "\n",
      "Process tag         :  pp_tt_13000_172.5  (use for process specification)\n",
      "Momenta layout      :  ['t', 'tbar']\n",
      "Default scales      :  muR0 = HT/4, muF0 = HT/4\n",
      "Default pdf         :  NNPDF31_nnlo_as_0118 / 0\n",
      "Avail. contributions:  ['NNLO', 'NLO', 'LO']\n",
      "Predefined variables\n",
      "   pt_t        :  sqrt(p_t_1**2 + p_t_2**2)\n",
      "   pt_tbar     :  sqrt(p_tbar_1**2 + p_tbar_2**2)\n",
      "   y_t         :  0.5*log((p_t_0 + p_t_3)/(p_t_0 - p_t_3))\n",
      "   y_tbar      :  0.5*log((p_tbar_0 + p_tbar_3)/(p_tbar_0 - p_tbar_3))\n",
      "   m_tt        :  sqrt((p_t_0+p_tbar_0)**2-(p_t_1+p_tbar_1)**2-(p_t_2+p_tbar_2)**2-(p_t_3+p_tbar_3)**2)\n",
      "   mt_t        :  sqrt(172.5*172.5+pt_t*pt_t)\n",
      "   mt_tbar     :  sqrt(172.5*172.5+pt_tbar*pt_tbar)\n",
      "   HTo4        :  (mt_t+mt_tbar)/4.\n",
      "Details:\n",
      "\n",
      " Parameters\n",
      "\n",
      " - pp collisions at 13 TeV\n",
      " - top-quark mass: mt = 172.5 GeV\n",
      " - number of massless flavours: nl = 5\n",
      "\n",
      " Contributions details\n",
      "\n",
      " - LO      : pQCD, aS^2\n",
      " - NLO     : pQCD, aS^2 + aS^3\n",
      " - NNLO    : pQCD, aS^2 + aS^3 + aS^4\n",
      "\n",
      " Additional information\n",
      "\n",
      " - Only onshell top-quark momenta accessible, no decays\n",
      "\n",
      " Citation\n",
      "\n",
      " - HighTEA arxiv:xxxx.xxxx\n",
      " - High-precision differential predictions for top-quark pairs at the LHC, arxiv:1511.00549\n",
      "\n"
     ]
    }
   ],
   "source": [
    "job = hightea('Example-ttbar-simple',directory=USERDIR)     # define new job\n",
    "job.process('pp_tt_13000_172.5')                            # specify process for job"
   ]
  },
  {
   "cell_type": "code",
   "execution_count": 4,
   "metadata": {},
   "outputs": [],
   "source": [
    "job.define_new_variable('circle',                               # specify a new variable\n",
    "                        'sqrt(pt_t**2+pt_tbar**2)')\n",
    "job.contribution('NLO')                                         # specify contribution\n",
    "job.scales('m_tt','m_tt*2')                                     # choose renormalization and factorization scale\n",
    "job.pdf('CT14nnlo')                                             # choose pdf\n",
    "job.observable('circle',[0.,50.,100.,150.,200.,250.,300.,350.]) # specify binning: variable and bin edges\n",
    "job.scale_variation('3-point')                                  # add scale variation"
   ]
  },
  {
   "cell_type": "code",
   "execution_count": 5,
   "metadata": {},
   "outputs": [
    {
     "name": "stdout",
     "output_type": "stream",
     "text": [
      "token request  0  :  4zlja1DHkMZcdUiUcOxJmGG_LeFFGgPBHuiY2qu3UZM\n",
      "token request  1  :  mtKroE3dn0CT20F1lAnnWpVaUS4NWTJb2SYSv_GVgLE\n",
      "token request  2  :  Z5Vrs1mS17bxihAcA8V3gWTTqEBbd6tWkmYr2H4580U\n",
      "request submitted :  2023-03-26 04:18:29.851644\n",
      "request finished  :  2023-03-26 04:18:43.178009\n"
     ]
    }
   ],
   "source": [
    "job.request()"
   ]
  },
  {
   "cell_type": "code",
   "execution_count": 6,
   "metadata": {},
   "outputs": [
    {
     "data": {
      "image/png": "[encoded data removed]",
      "text/plain": [
       "<Figure size 640x480 with 1 Axes>"
      ]
     },
     "metadata": {},
     "output_type": "display_data"
    }
   ],
   "source": [
    "plot(job.result());"
   ]
  },
  {
   "cell_type": "code",
   "execution_count": 7,
   "metadata": {},
   "outputs": [
    {
     "name": "stdout",
     "output_type": "stream",
     "text": [
      "Name                    :  Example-ttbar-simple\n",
      "Contributions           :  ['NLO']\n",
      "muR                     :  m_tt\n",
      "muF                     :  m_tt*2\n",
      "pdf                     :  CT14nnlo , 0\n",
      "fiducial xsection [pb]  :    5.910E+02\n",
      "  mc-error [pb] ([%])   :  2.3E+00 (3.9E-01)\n",
      "sys. unc. [pb] ([%])    : scale (3)\n",
      "                        :  +8.4E+01 (1.4E+01) / -7.5E+01 (1.3E+01)\n",
      "Histogram     : circle\n",
      " bin1 low  | bin1 high | sigma [pb]  | mc-err [pb] ([%]) | scale (3) [pb] ([%])                    |\n",
      " 0.000E+00 | 5.000E+01 |   3.894E+01 | 6.7E-01 (1.7E+00) | +2.7E+00 (7.0E+00) / -3.3E+00 (8.5E+00) |\n",
      " 5.000E+01 | 1.000E+02 |   1.155E+02 | 9.1E-01 (7.9E-01) | +1.5E+01 (1.3E+01) / -1.4E+01 (1.2E+01) |\n",
      " 1.000E+02 | 1.500E+02 |   1.374E+02 | 1.1E+00 (8.1E-01) | +2.0E+01 (1.4E+01) / -1.7E+01 (1.3E+01) |\n",
      " 1.500E+02 | 2.000E+02 |   1.120E+02 | 1.0E+00 (9.0E-01) | +1.7E+01 (1.5E+01) / -1.5E+01 (1.3E+01) |\n",
      " 2.000E+02 | 2.500E+02 |   7.582E+01 | 9.2E-01 (1.2E+00) | +1.2E+01 (1.5E+01) / -1.0E+01 (1.3E+01) |\n",
      " 2.500E+02 | 3.000E+02 |   4.641E+01 | 5.1E-01 (1.1E+00) | +7.3E+00 (1.6E+01) / -6.3E+00 (1.4E+01) |\n",
      " 3.000E+02 | 3.500E+02 |   2.684E+01 | 3.7E-01 (1.4E+00) | +4.3E+00 (1.6E+01) / -3.7E+00 (1.4E+01) |\n",
      "\n",
      "\n"
     ]
    }
   ],
   "source": [
    "job.show_result()"
   ]
  }
 ],
 "metadata": {
  "colab": {
   "authorship_tag": "ABX9TyMaVZsuSh/SeHZ8cM3f1pKL",
   "collapsed_sections": [],
   "name": "Example-ttbar-simple.ipynb",
   "provenance": []
  },
  "kernelspec": {
   "display_name": "Python 3 (ipykernel)",
   "language": "python",
   "name": "python3"
  },
  "language_info": {
   "codemirror_mode": {
    "name": "ipython",
    "version": 3
   },
   "file_extension": ".py",
   "mimetype": "text/x-python",
   "name": "python",
   "nbconvert_exporter": "python",
   "pygments_lexer": "ipython3",
   "version": "3.7.10"
  }
 },
 "nbformat": 4,
 "nbformat_minor": 1
}
