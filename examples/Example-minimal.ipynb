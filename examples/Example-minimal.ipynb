{
 "cells": [
  {
   "cell_type": "code",
   "execution_count": 1,
   "metadata": {},
   "outputs": [],
   "source": [
    "#Install hightea client and plotting library\n",
    "%pip install hightea-client > /dev/null\n",
    "%pip install hightea-plotting > /dev/null\n",
    "from hightea.client.apiactions import API\n",
    "from hightea.plotting import plot"
   ]
  },
  {
   "cell_type": "code",
   "execution_count": 2,
   "metadata": {},
   "outputs": [],
   "source": [
    "api = API()\n",
    "api.anonymous_login()"
   ]
  },
  {
   "cell_type": "code",
   "execution_count": 3,
   "metadata": {},
   "outputs": [
    {
     "name": "stdout",
     "output_type": "stream",
     "text": [
      "ttbar test data                                     tag : tests\n",
      "pp -> tt~ + X at 13 TeV mt = 172.5 GeV HE           tag : pp_tt_13000_172.5_he\n",
      "pp -> A A + X at 8 TeV                              tag : pp_aa_8000\n",
      "pp -> Wp + Wm + X at 13 TeV                         tag : pp_ww_13000\n",
      "pp -> j + X at 7 TeV                                tag : pp_j_7000\n",
      "pp -> tt~ + X at 8 TeV mt = 172.5 GeV               tag : pp_tt_8000_172.5\n",
      "pp -> e+ ve mu- vm~ + X at 13 TeV                   tag : pp_evmv_13000\n",
      "pp -> tt~ + X at 13 TeV mt = 172.5 GeV              tag : pp_tt_13000_172.5\n"
     ]
    }
   ],
   "source": [
    "# Print process list\n",
    "dict_of_processes = api.list_processes();\n",
    "for proc in dict_of_processes.keys():\n",
    "    print(dict_of_processes[proc].ljust(50),\" tag :\", proc.replace('processes/',''))"
   ]
  },
  {
   "cell_type": "code",
   "execution_count": 4,
   "metadata": {},
   "outputs": [
    {
     "name": "stdout",
     "output_type": "stream",
     "text": [
      "pp -> tt~ + X at 13 TeV mt = 172.5 GeV\n",
      "Details:\n",
      "\n",
      " Parameters\n",
      "\n",
      " - pp collisions at 13 TeV\n",
      " - top-quark mass: mt = 172.5 GeV\n",
      " - number of massless flavours: nl = 5\n",
      "\n",
      " Contributions details\n",
      "\n",
      " - LO      : pQCD, aS^2\n",
      " - NLO     : pQCD, aS^2 + aS^3\n",
      " - NNLO    : pQCD, aS^2 + aS^3 + aS^4\n",
      "\n",
      " Additional information\n",
      "\n",
      " - Only onshell top-quark momenta accessible, no decays\n",
      "\n",
      " Citation\n",
      "\n",
      " - HighTEA arxiv:xxxx.xxxx\n",
      " - High-precision differential predictions for top-quark pairs at the LHC, arxiv:1511.00549\n",
      "\n",
      "Predefined variables: ['pt_t', 'pt_tbar', 'y_t', 'y_tbar', 'm_tt', 'mt_t', 'mt_tbar', 'HTo4']\n"
     ]
    }
   ],
   "source": [
    "# Use tag to specify process and get some metadata\n",
    "PROCESS = 'pp_tt_13000_172.5'\n",
    "meta_data = api.get_metadata(PROCESS)\n",
    "print(meta_data['name'])\n",
    "print(meta_data['details'])\n",
    "print(\"Predefined variables:\",list(meta_data['variables'].keys()))"
   ]
  },
  {
   "cell_type": "code",
   "execution_count": 5,
   "metadata": {},
   "outputs": [],
   "source": [
    "# define request in JSON format and submit\n",
    "request = {\n",
    "    \"contributions\": [\"NLO\"],\n",
    "    \"custom_variables\": {\n",
    "        'myvar':'sqrt((p_t_0+p_tbar_0)**2-(p_t_1+p_tbar_1)**2-(p_t_2+p_tbar_2)**2-(p_t_3+p_tbar_3)**2 + mt_t*mt_tbar)',\n",
    "    },\n",
    "    'pdf': 'CT14nnlo',\n",
    "    'pdf_member':2,\n",
    "    'muF': '2*HTo4',\n",
    "    'muR': \"myvar\",\n",
    "    \"observables\": [\n",
    "        {\n",
    "            \"name\":\"mylabel\",\n",
    "            \"binning\":[{\"variable\": \"myvar\",\n",
    "                        \"bins\":[345.,390,440.,480.,530.,570.,620.,665.,710.,755.,800.]}],\n",
    "        }\n",
    "    ]\n",
    "}\n",
    "\n",
    "response = api.request_hist(PROCESS, request)"
   ]
  },
  {
   "cell_type": "code",
   "execution_count": 6,
   "metadata": {},
   "outputs": [],
   "source": [
    "# wait for the token to finish and retrieve the result\n",
    "result = api.wait_token_json(response['token'])"
   ]
  },
  {
   "cell_type": "code",
   "execution_count": 7,
   "metadata": {},
   "outputs": [
    {
     "data": {
      "image/png": "[encoded data removed]",
      "text/plain": [
       "<Figure size 432x288 with 1 Axes>"
      ]
     },
     "metadata": {
      "needs_background": "light"
     },
     "output_type": "display_data"
    }
   ],
   "source": [
    "# show the result as a plot\n",
    "plot(result);"
   ]
  }
 ],
 "metadata": {
  "kernelspec": {
   "display_name": "Python 3",
   "language": "python",
   "name": "python3"
  },
  "language_info": {
   "codemirror_mode": {
    "name": "ipython",
    "version": 3
   },
   "file_extension": ".py",
   "mimetype": "text/x-python",
   "name": "python",
   "nbconvert_exporter": "python",
   "pygments_lexer": "ipython3",
   "version": "3.7.10"
  }
 },
 "nbformat": 4,
 "nbformat_minor": 4
}
