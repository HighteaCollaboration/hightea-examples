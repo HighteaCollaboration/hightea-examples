{
 "cells": [
  {
   "cell_type": "code",
   "execution_count": 1,
   "metadata": {},
   "outputs": [],
   "source": [
    "# The user specifies if running notebook on GoogleColab or locally\n",
    "UseGoogleColab = True"
   ]
  },
  {
   "cell_type": "code",
   "execution_count": 2,
   "metadata": {
    "executionInfo": {
     "elapsed": 5413,
     "status": "ok",
     "timestamp": 1634656577675,
     "user": {
      "displayName": "Rene Poncelet",
      "photoUrl": "https://lh3.googleusercontent.com/a/default-user=s64",
      "userId": "08063036523313804008"
     },
     "user_tz": -60
    },
    "id": "mOMrNuKfrspp"
   },
   "outputs": [],
   "source": [
    "if UseGoogleColab:\n",
    "    from google.colab import drive\n",
    "    drive.mount('/content/drive')\n",
    "    USERDIR='/content/drive/MyDrive/hightea/'\n",
    "else:\n",
    "    USERDIR='.'\n",
    "\n",
    "#Install hightea client and plotting library\n",
    "%pip install hightea-client > /dev/null\n",
    "%pip install hightea-plotting > /dev/null\n",
    "from hightea.client import Interface as hightea\n",
    "from hightea.plotting import plot,Run"
   ]
  },
  {
   "cell_type": "markdown",
   "metadata": {},
   "source": [
    "A simple example job"
   ]
  },
  {
   "cell_type": "code",
   "execution_count": 3,
   "metadata": {},
   "outputs": [
    {
     "name": "stdout",
     "output_type": "stream",
     "text": [
      "   pp -> j + X at 7 TeV \n",
      "\n",
      "Process tag         :  pp_j_7000  (use for process specification)\n",
      "Default scales      :   muR = HT2, muF = HT2 \n",
      "Default pdf         :  NNPDF31_nnlo_as_0118 / 0\n",
      "Avail. contributions:  ['NLO', 'LO']\n",
      "Predefined variables\n",
      "   pt_j1       :  sqrt(p_j1_1**2 + p_j1_2**2)\n",
      "   pt_j2       :  sqrt(p_j2_1**2 + p_j2_2**2)\n",
      "   HT2         :  pt_j1+pt_j2\n",
      "Jet parameters      :\n",
      "  maxnjets  :  2\n",
      "  p  :  -1\n",
      "  R  :  0.4\n",
      "Details:\n",
      "\n",
      " Parameters\n",
      "\n",
      " - pp collisions at 7 TeV\n",
      " - number of massless flavours: nl = 5\n",
      "\n",
      " Generation cuts\n",
      "\n",
      " - anti-kT R = 0.4 jets\n",
      " - pT(j1) > 56 GeV\n",
      " - |y(j)| < 3.0\n",
      "\n",
      " Contributions details\n",
      "\n",
      " - LO      : pQCD, aS^2\n",
      " - NLO     : pQCD, aS^2 + aS^3\n",
      "\n",
      " Citation\n",
      "\n",
      " - HighTEA arxiv:xxxx.xxxx\n",
      " - Single-jet inclusive rates with exact color at O(aS^4) arXiv:1907.12911\n"
     ]
    }
   ],
   "source": [
    "job = hightea('Example-inclusive-jets',directory=USERDIR) # define new job\n",
    "job.process('pp_j_7000')                                  # specify process for job"
   ]
  },
  {
   "cell_type": "code",
   "execution_count": 4,
   "metadata": {},
   "outputs": [],
   "source": [
    "pt_j1_bins = [56.,64.,74.,84.,97.,114.,133.0,153.,174.,196.,220.,245.,272.,\n",
    "              300.,330.,362.,395.,430.,468.,507.,548.,592.,638.,686.,737.,\n",
    "              790.,846.,905.,967.,1032.,1101.,1172.,1248.,1327.]"
   ]
  },
  {
   "cell_type": "code",
   "execution_count": 5,
   "metadata": {},
   "outputs": [],
   "source": [
    "job.contribution('NLO')                           # specify contribution\n",
    "job.scales('HT2/2','HT2/2')                       # choose renormalization and factorization scale\n",
    "job.observable('pt_j1',pt_j1_bins)                # specify binning: variable and bin edges\n",
    "job.scale_variation('3-point')                    # add scale variation\n",
    "job.jet_parameters({'maxnjets':2,'p':-1,'R':0.3}) # choose jet parameter"
   ]
  },
  {
   "cell_type": "code",
   "execution_count": 6,
   "metadata": {},
   "outputs": [
    {
     "name": "stdout",
     "output_type": "stream",
     "text": [
      "token request  0  :  70OI2hRGPlLmiPvxVz71DHVKw4TeKpxJel12eMBS89E\n",
      "token request  1  :  yXJqZAxL6safgJl6na6CRs7DQwLQUIyS_wLp5CiQ-_Y\n",
      "token request  2  :  rN3cACY1m-mQQvUNeWwYR2yH73PajyAF-6bG0FCyy5E\n",
      "request submitted :  2023-04-06 14:08:19.069488\n",
      "request finished  :  2023-04-06 14:10:41.718629\n"
     ]
    }
   ],
   "source": [
    "job.request()"
   ]
  },
  {
   "cell_type": "code",
   "execution_count": 7,
   "metadata": {},
   "outputs": [
    {
     "data": {
      "image/png": "[encoded data removed]",
      "text/plain": [
       "<Figure size 640x480 with 1 Axes>"
      ]
     },
     "metadata": {},
     "output_type": "display_data"
    }
   ],
   "source": [
    "plot(job.result(),logscale=1);"
   ]
  },
  {
   "cell_type": "code",
   "execution_count": 8,
   "metadata": {},
   "outputs": [
    {
     "name": "stdout",
     "output_type": "stream",
     "text": [
      "Name                    :  Example-inclusive-jets\n",
      "Contributions           :  ['NLO']\n",
      "muR                     :  HT2/2\n",
      "muF                     :  HT2/2\n",
      "fiducial xsection [pb]  :    8.306E+06\n",
      "  mc-error [pb] ([%])   :  1.6E+05 (2.0E+00)\n",
      "sys. unc. [pb] ([%])    : scale (3)\n",
      "                        :  +1.8E+06 (2.2E+01) / -1.4E+06 (1.7E+01)\n",
      "Histogram     : pt_j1\n",
      " bin1 low  | bin1 high | sigma [pb]  | mc-err [pb] ([%]) | scale (3) [pb] ([%])                    |\n",
      " 5.600E+01 | 6.400E+01 |   3.437E+06 | 2.7E+05 (7.7E+00) | +6.7E+05 (2.0E+01) / -5.3E+05 (1.5E+01) |\n",
      " 6.400E+01 | 7.400E+01 |   2.209E+06 | 2.3E+05 (1.0E+01) | +5.0E+05 (2.3E+01) / -3.7E+05 (1.7E+01) |\n",
      " 7.400E+01 | 8.400E+01 |   1.143E+06 | 1.2E+05 (1.0E+01) | +2.9E+05 (2.5E+01) / -2.1E+05 (1.8E+01) |\n",
      " 8.400E+01 | 9.700E+01 |   7.667E+05 | 8.1E+04 (1.1E+01) | +1.8E+05 (2.3E+01) / -1.3E+05 (1.8E+01) |\n",
      " 9.700E+01 | 1.140E+02 |   4.035E+05 | 3.6E+04 (8.8E+00) | +1.0E+05 (2.5E+01) / -7.3E+04 (1.8E+01) |\n",
      " 1.140E+02 | 1.330E+02 |   1.657E+05 | 1.7E+04 (1.0E+01) | +3.2E+04 (1.9E+01) / -2.6E+04 (1.6E+01) |\n",
      " 1.330E+02 | 1.530E+02 |   9.757E+04 | 1.5E+04 (1.5E+01) | +2.6E+04 (2.6E+01) / -1.9E+04 (1.9E+01) |\n",
      " 1.530E+02 | 1.740E+02 |   4.079E+04 | 1.5E+03 (3.7E+00) | +9.1E+03 (2.2E+01) / -7.1E+03 (1.7E+01) |\n",
      " 1.740E+02 | 1.960E+02 |   1.961E+04 | 6.1E+02 (3.1E+00) | +4.2E+03 (2.1E+01) / -3.3E+03 (1.7E+01) |\n",
      " 1.960E+02 | 2.200E+02 |   1.023E+04 | 5.3E+02 (5.1E+00) | +2.1E+03 (2.0E+01) / -1.7E+03 (1.7E+01) |\n",
      " 2.200E+02 | 2.450E+02 |   5.185E+03 | 4.6E+02 (8.8E+00) | +9.3E+02 (1.8E+01) / -8.1E+02 (1.6E+01) |\n",
      " 2.450E+02 | 2.720E+02 |   3.039E+03 | 9.7E+01 (3.2E+00) | +6.2E+02 (2.0E+01) / -5.1E+02 (1.7E+01) |\n",
      " 2.720E+02 | 3.000E+02 |   1.664E+03 | 8.0E+01 (4.8E+00) | +3.2E+02 (1.9E+01) / -2.7E+02 (1.6E+01) |\n",
      " 3.000E+02 | 3.300E+02 |   1.065E+03 | 6.6E+01 (6.2E+00) | +2.4E+02 (2.3E+01) / -1.9E+02 (1.8E+01) |\n",
      " 3.300E+02 | 3.620E+02 |   5.334E+02 | 2.7E+01 (5.0E+00) | +1.0E+02 (1.9E+01) / -8.6E+01 (1.6E+01) |\n",
      " 3.620E+02 | 3.950E+02 |   3.156E+02 | 2.5E+01 (8.1E+00) | +6.1E+01 (1.9E+01) / -5.2E+01 (1.6E+01) |\n",
      " 3.950E+02 | 4.300E+02 |   2.039E+02 | 1.4E+01 (6.7E+00) | +4.6E+01 (2.2E+01) / -3.6E+01 (1.8E+01) |\n",
      " 4.300E+02 | 4.680E+02 |   9.313E+01 | 1.1E+01 (1.2E+01) | +1.2E+01 (1.3E+01) / -1.2E+01 (1.3E+01) |\n",
      " 4.680E+02 | 5.070E+02 |   7.287E+01 | 1.1E+01 (1.5E+01) | +1.7E+01 (2.3E+01) / -1.3E+01 (1.8E+01) |\n",
      " 5.070E+02 | 5.480E+02 |   3.804E+01 | 1.5E+00 (3.9E+00) | +7.3E+00 (1.9E+01) / -6.3E+00 (1.7E+01) |\n",
      " 5.480E+02 | 5.920E+02 |   2.368E+01 | 8.6E-01 (3.6E+00) | +4.6E+00 (2.0E+01) / -3.9E+00 (1.7E+01) |\n",
      " 5.920E+02 | 6.380E+02 |   1.232E+01 | 6.8E-01 (5.5E+00) | +2.0E+00 (1.6E+01) / -1.9E+00 (1.5E+01) |\n",
      " 6.380E+02 | 6.860E+02 |   7.414E+00 | 2.1E-01 (2.8E+00) | +1.2E+00 (1.6E+01) / -1.1E+00 (1.5E+01) |\n",
      " 6.860E+02 | 7.370E+02 |   4.774E+00 | 1.4E-01 (3.0E+00) | +8.9E-01 (1.9E+01) / -7.8E-01 (1.6E+01) |\n",
      " 7.370E+02 | 7.900E+02 |   2.668E+00 | 1.0E-01 (3.7E+00) | +4.5E-01 (1.7E+01) / -4.2E-01 (1.6E+01) |\n",
      " 7.900E+02 | 8.460E+02 |   1.600E+00 | 5.2E-02 (3.2E+00) | +2.7E-01 (1.7E+01) / -2.5E-01 (1.6E+01) |\n",
      " 8.460E+02 | 9.050E+02 |   9.084E-01 | 3.4E-02 (3.7E+00) | +1.5E-01 (1.7E+01) / -1.4E-01 (1.6E+01) |\n",
      " 9.050E+02 | 9.670E+02 |   5.922E-01 | 3.1E-02 (5.3E+00) | +1.2E-01 (2.1E+01) / -1.0E-01 (1.7E+01) |\n",
      " 9.670E+02 | 1.032E+03 |   2.598E-01 | 2.8E-02 (1.1E+01) | +3.1E-02 (1.2E+01) / -3.5E-02 (1.4E+01) |\n",
      " 1.032E+03 | 1.101E+03 |   1.702E-01 | 8.1E-03 (4.8E+00) | +2.8E-02 (1.6E+01) / -2.7E-02 (1.6E+01) |\n",
      " 1.101E+03 | 1.172E+03 |   9.051E-02 | 5.8E-03 (6.4E+00) | +1.4E-02 (1.5E+01) / -1.4E-02 (1.5E+01) |\n",
      " 1.172E+03 | 1.248E+03 |   5.285E-02 | 2.8E-03 (5.2E+00) | +9.6E-03 (1.8E+01) / -8.9E-03 (1.7E+01) |\n",
      " 1.248E+03 | 1.327E+03 |   2.873E-02 | 1.8E-03 (6.2E+00) | +5.5E-03 (1.9E+01) / -5.0E-03 (1.7E+01) |\n",
      "\n",
      "\n"
     ]
    }
   ],
   "source": [
    "job.show_result()"
   ]
  },
  {
   "cell_type": "code",
   "execution_count": null,
   "metadata": {},
   "outputs": [],
   "source": []
  }
 ],
 "metadata": {
  "colab": {
   "authorship_tag": "ABX9TyMaVZsuSh/SeHZ8cM3f1pKL",
   "collapsed_sections": [],
   "name": "Example-ttbar-simple.ipynb",
   "provenance": []
  },
  "kernelspec": {
   "display_name": "Python 3 (ipykernel)",
   "language": "python",
   "name": "python3"
  },
  "language_info": {
   "codemirror_mode": {
    "name": "ipython",
    "version": 3
   },
   "file_extension": ".py",
   "mimetype": "text/x-python",
   "name": "python",
   "nbconvert_exporter": "python",
   "pygments_lexer": "ipython3",
   "version": "3.7.10"
  }
 },
 "nbformat": 4,
 "nbformat_minor": 1
}
