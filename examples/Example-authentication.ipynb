{
 "cells": [
  {
   "cell_type": "code",
   "execution_count": null,
   "metadata": {},
   "outputs": [],
   "source": [
    "# The user specifies if running notebook on GoogleColab or locally\n",
    "UseGoogleColab = True"
   ]
  },
  {
   "cell_type": "code",
   "execution_count": null,
   "metadata": {
    "executionInfo": {
     "elapsed": 5413,
     "status": "ok",
     "timestamp": 1634656577675,
     "user": {
      "displayName": "Rene Poncelet",
      "photoUrl": "https://lh3.googleusercontent.com/a/default-user=s64",
      "userId": "08063036523313804008"
     },
     "user_tz": -60
    },
    "id": "mOMrNuKfrspp"
   },
   "outputs": [],
   "source": [
    "if UseGoogleColab:\n",
    "    from google.colab import drive\n",
    "    drive.mount('/content/drive')\n",
    "    USERDIR='/content/drive/MyDrive/hightea/'\n",
    "else:\n",
    "    USERDIR='.'\n",
    "\n",
    "#Install hightea client and plotting library\n",
    "%pip install hightea-client > /dev/null\n",
    "%pip install hightea-plotting > /dev/null\n",
    "from hightea.client import Interface as hightea\n",
    "from hightea.plotting import plot,Run"
   ]
  },
  {
   "cell_type": "markdown",
   "metadata": {},
   "source": [
    "To authenticate as with a user account you need your authentification token.\n",
    "\n",
    "If you have already a user account you can login and retrive the token here:\n",
    "\n",
    "https://www.hep.phy.cam.ac.uk/hightea/login/\n",
    "\n",
    "If you want to register please follow the instruction here:\n",
    "\n",
    "https://www.precision.hep.phy.cam.ac.uk/hightea/\n",
    "\n",
    "or send an email to hightea@hep.phy.cam.ac.uk ."
   ]
  },
  {
   "cell_type": "code",
   "execution_count": null,
   "metadata": {},
   "outputs": [],
   "source": [
    "my_auth_token=\"<insert-your-token-here>\""
   ]
  },
  {
   "cell_type": "markdown",
   "metadata": {},
   "source": [
    "A simple example job with authentification."
   ]
  },
  {
   "cell_type": "code",
   "execution_count": null,
   "metadata": {},
   "outputs": [],
   "source": [
    "job = hightea('Example-authentification',                      # job name\n",
    "              auth=my_auth_token,                              # authentification token\n",
    "              directory=USERDIR)                               # directory\n",
    "job.process('pp_tt_13000_172.5')                               # specify process for job"
   ]
  },
  {
   "cell_type": "code",
   "execution_count": null,
   "metadata": {},
   "outputs": [],
   "source": [
    "job.define_new_variable('mtt',                                  # specify a new variable\n",
    "                        'sqrt((p_t_0+p_tbar_0)**2-(p_t_1+p_tbar_1)**2-(p_t_2+p_tbar_2)**2-(p_t_3+p_tbar_3)**2)')\n",
    "job.contribution('NLO')                                        # specify contribution\n",
    "job.scales('mtt','mtt*2')                                       # choose renormalization and factorization scale\n",
    "job.pdf('CT14nnlo')                                             # choose pdf\n",
    "job.observable('mtt',[345, 400, 450, 500, 550, 600, 650, 700])  # specify binning: variable and bin edges\n",
    "job.scale_variation('3-point')                                  # add scale variation"
   ]
  },
  {
   "cell_type": "code",
   "execution_count": null,
   "metadata": {},
   "outputs": [],
   "source": [
    "job.request()"
   ]
  },
  {
   "cell_type": "code",
   "execution_count": null,
   "metadata": {},
   "outputs": [],
   "source": [
    "plot(job.result());"
   ]
  },
  {
   "cell_type": "code",
   "execution_count": null,
   "metadata": {},
   "outputs": [],
   "source": [
    "job.show_result()"
   ]
  },
  {
   "cell_type": "markdown",
   "metadata": {},
   "source": [
    "More functionality for authentificated users coming soon!\n",
    "\n",
    "- Check your history of requests.\n",
    "- Stop jobs in the queue.\n",
    "- Higher priority as anonymous users."
   ]
  }
 ],
 "metadata": {
  "colab": {
   "authorship_tag": "ABX9TyMaVZsuSh/SeHZ8cM3f1pKL",
   "collapsed_sections": [],
   "name": "Example-ttbar-simple.ipynb",
   "provenance": []
  },
  "kernelspec": {
   "display_name": "Python 3",
   "language": "python",
   "name": "python3"
  },
  "language_info": {
   "codemirror_mode": {
    "name": "ipython",
    "version": 3
   },
   "file_extension": ".py",
   "mimetype": "text/x-python",
   "name": "python",
   "nbconvert_exporter": "python",
   "pygments_lexer": "ipython3",
   "version": "3.7.10"
  }
 },
 "nbformat": 4,
 "nbformat_minor": 1
}
