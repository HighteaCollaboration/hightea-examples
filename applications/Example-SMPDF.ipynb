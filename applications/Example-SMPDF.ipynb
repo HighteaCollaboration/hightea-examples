{
 "cells": [
  {
   "cell_type": "markdown",
   "metadata": {},
   "source": [
    "# Generation of input for SMPDF"
   ]
  },
  {
   "cell_type": "markdown",
   "metadata": {},
   "source": [
    "First load the hightea library and the plotting routines"
   ]
  },
  {
   "cell_type": "code",
   "execution_count": 1,
   "metadata": {},
   "outputs": [],
   "source": [
    "from hightea.client import Interface as hightea\n",
    "from hightea.plotting import plot,Run"
   ]
  },
  {
   "cell_type": "markdown",
   "metadata": {},
   "source": [
    "SMPDF methodolgy allows to reduce the number of PDF members required to estimate PDF uncertainties. A detailed description of the method can be found in the [publication](http://arxiv.org/abs/1602.00005) and the public code [repository](https://github.com/scarrazza/smpdf).\n",
    "\n",
    "In this notebook we demonstrate how to use HighTEA to generate the required input files for a given PDF set in the case of ttbar production. We use the pair invariant mass and pair rapidity as input, which observables are sensible to so depends on the process. Also here the analysis is done at NLO QCD."
   ]
  },
  {
   "cell_type": "code",
   "execution_count": 2,
   "metadata": {},
   "outputs": [],
   "source": [
    "PDFSET='NNPDF31_nnlo_as_0118'\n",
    "PROC='pp_ttx_13TeV'\n",
    "ORDER='NLO'"
   ]
  },
  {
   "cell_type": "code",
   "execution_count": 3,
   "metadata": {},
   "outputs": [
    {
     "name": "stdout",
     "output_type": "stream",
     "text": [
      "Load data from : ./hightea-jobs/Example-SMPDF-prepare-job.job\n",
      "WARNING: job already submitted. Nothing changed\n"
     ]
    }
   ],
   "source": [
    "job = hightea('Example-SMPDF-prepare-job')\n",
    "job.process(PROC,verbose=False)\n",
    "job.define_new_variable('ytt'   ,'abs(0.5*log((p_t_0+p_tbar_0 + p_t_3 + p_tbar_3)/(p_t_0+p_tbar_0 - p_t_3 - p_tbar_3)))')\n",
    "job.define_new_variable('mtt'   ,'sqrt((p_t_0+p_tbar_0)**2-(p_t_1+p_tbar_1)**2-(p_t_2+p_tbar_2)**2-(p_t_3+p_tbar_3)**2)')"
   ]
  },
  {
   "cell_type": "code",
   "execution_count": null,
   "metadata": {},
   "outputs": [],
   "source": [
    "job.add_histogram()\n",
    "job.contribution(ORDER)\n",
    "job.description(ORDER+' - ytt')\n",
    "job.binning('ytt',[0.0, 0.28, 0.58, 0.91, 1.29, 1.84, 5.])\n",
    "job.pdf(PDFSET)\n",
    "job.pdf_variation('full')\n",
    "\n",
    "job.add_histogram()\n",
    "job.contribution(ORDER)\n",
    "job.description(ORDER+' - mtt')\n",
    "job.binning('mtt',[345.0, 393.0, 433.0, 481.0, 549.0, 684.0, 2000.])\n",
    "job.pdf(PDFSET)\n",
    "job.pdf_variation('full')"
   ]
  },
  {
   "cell_type": "code",
   "execution_count": null,
   "metadata": {},
   "outputs": [],
   "source": [
    "job.request()"
   ]
  },
  {
   "cell_type": "code",
   "execution_count": null,
   "metadata": {},
   "outputs": [],
   "source": [
    "job.write_SMPDFinput('SMPDF-ttbar')"
   ]
  },
  {
   "cell_type": "code",
   "execution_count": 4,
   "metadata": {},
   "outputs": [
    {
     "name": "stdout",
     "output_type": "stream",
     "text": [
      "Histogram  0\n",
      "Name                    :  NLO - ytt\n",
      "Contributions           :  ['NLO']\n",
      "pdf                     :  NNPDF31_nnlo_as_0118\n",
      "variation               :  ['pdf - full']\n",
      "fiducial xsection       :       785.44\n",
      "fiducial xsection error :       3.9593\n",
      "pdf-unc. (replicas) [%] : +      0.93/ -      0.93\n",
      "Histogram     : ytt\n",
      " bin1 low  | bin1 high | sigma [pb]  | mc-err [pb] | pdf-unc.(replicas) [%]  |\n",
      "         0 |      0.28 |      156.86 |      1.4039 | +       1.2/ -       1.2\n",
      "      0.28 |      0.58 |      159.24 |      1.4408 | +         1/ -         1\n",
      "      0.58 |      0.91 |      155.25 |      1.4039 | +       1.2/ -       1.2\n",
      "      0.91 |      1.29 |      135.19 |      1.4589 | +         1/ -         1\n",
      "      1.29 |      1.84 |      120.12 |       1.378 | +       1.3/ -       1.3\n",
      "      1.84 |         5 |      58.782 |     0.83145 | +       2.4/ -       2.4\n",
      "\n",
      "\n",
      "Histogram  1\n",
      "Name                    :  NLO - mtt\n",
      "Contributions           :  ['NLO']\n",
      "pdf                     :  NNPDF31_nnlo_as_0118\n",
      "variation               :  ['pdf - full']\n",
      "fiducial xsection       :       785.44\n",
      "fiducial xsection error :       3.9593\n",
      "pdf-unc. (replicas) [%] : +      0.93/ -      0.93\n",
      "Histogram     : mtt\n",
      " bin1 low  | bin1 high | sigma [pb]  | mc-err [pb] | pdf-unc.(replicas) [%]  |\n",
      "       345 |       393 |      143.29 |      1.2948 | +      0.81/ -      0.81\n",
      "       393 |       433 |      139.53 |      1.2875 | +      0.85/ -      0.85\n",
      "       433 |       481 |      134.52 |       1.277 | +      0.87/ -      0.87\n",
      "       481 |       549 |      129.59 |      1.2551 | +       1.3/ -       1.3\n",
      "       549 |       684 |      135.07 |      1.2457 | +         1/ -         1\n",
      "       684 |      2000 |      103.04 |      1.0338 | +       1.4/ -       1.4\n",
      "\n",
      "\n"
     ]
    }
   ],
   "source": [
    "job.show_result()"
   ]
  },
  {
   "cell_type": "markdown",
   "metadata": {},
   "source": [
    "## Validation"
   ]
  },
  {
   "cell_type": "markdown",
   "metadata": {},
   "source": [
    "A corresponding SMPDF set has been prepared. Here compute the same uncertainties to compare."
   ]
  },
  {
   "cell_type": "code",
   "execution_count": 5,
   "metadata": {},
   "outputs": [
    {
     "name": "stdout",
     "output_type": "stream",
     "text": [
      "Load data from : ./hightea-jobs/Example-SMPDF-validate-job.job\n",
      "WARNING: job already submitted. Nothing changed\n"
     ]
    }
   ],
   "source": [
    "jobv = hightea('Example-SMPDF-validate-job')\n",
    "jobv.process(PROC,verbose=False)\n",
    "jobv.define_new_variable('ytt'   ,'abs(0.5*log((p_t_0+p_tbar_0 + p_t_3 + p_tbar_3)/(p_t_0+p_tbar_0 - p_t_3 - p_tbar_3)))')\n",
    "jobv.define_new_variable('mtt'   ,'sqrt((p_t_0+p_tbar_0)**2-(p_t_1+p_tbar_1)**2-(p_t_2+p_tbar_2)**2-(p_t_3+p_tbar_3)**2)')"
   ]
  },
  {
   "cell_type": "code",
   "execution_count": null,
   "metadata": {},
   "outputs": [],
   "source": [
    "jobv.add_histogram()\n",
    "jobv.contribution(ORDER)\n",
    "jobv.description(ORDER+' - ytt')\n",
    "jobv.binning('ytt',[0.0, 0.28, 0.58, 0.91, 1.29, 1.84, 5.])\n",
    "jobv.pdf(PDFSET)\n",
    "jobv.pdf_variation()\n",
    "\n",
    "jobv.add_histogram()\n",
    "jobv.contribution(ORDER)\n",
    "jobv.description(ORDER+' - mtt')\n",
    "jobv.binning('mtt',[345.0, 393.0, 433.0, 481.0, 549.0, 684.0, 2000.])\n",
    "jobv.pdf(PDFSET)\n",
    "jobv.pdf_variation()"
   ]
  },
  {
   "cell_type": "code",
   "execution_count": null,
   "metadata": {},
   "outputs": [],
   "source": [
    "jobv.request()"
   ]
  },
  {
   "cell_type": "code",
   "execution_count": 6,
   "metadata": {},
   "outputs": [
    {
     "name": "stdout",
     "output_type": "stream",
     "text": [
      "Histogram  0\n",
      "Name                    :  NLO - ytt\n",
      "Contributions           :  ['NLO']\n",
      "pdf                     :  NNPDF31_nnlo_as_0118\n",
      "variation               :  ['pdf - smpdf']\n",
      "fiducial xsection       :       785.44\n",
      "fiducial xsection error :       3.9593\n",
      "pdf-unc. (symmhessian) [%] : +      0.91/ -      0.91\n",
      "Histogram     : ytt\n",
      " bin1 low  | bin1 high | sigma [pb]  | mc-err [pb] | pdf-unc.(symmhessian) [%]  |\n",
      "         0 |      0.28 |      156.86 |      1.4039 | +       1.1/ -       1.1\n",
      "      0.28 |      0.58 |      159.24 |      1.4408 | +      0.99/ -      0.99\n",
      "      0.58 |      0.91 |      155.25 |      1.4039 | +         1/ -         1\n",
      "      0.91 |      1.29 |      135.19 |      1.4589 | +      0.97/ -      0.97\n",
      "      1.29 |      1.84 |      120.12 |       1.378 | +       1.1/ -       1.1\n",
      "      1.84 |         5 |      58.782 |     0.83145 | +       2.3/ -       2.3\n",
      "\n",
      "\n",
      "Histogram  1\n",
      "Name                    :  NLO - mtt\n",
      "Contributions           :  ['NLO']\n",
      "pdf                     :  NNPDF31_nnlo_as_0118\n",
      "variation               :  ['pdf - smpdf']\n",
      "fiducial xsection       :       785.44\n",
      "fiducial xsection error :       3.9593\n",
      "pdf-unc. (symmhessian) [%] : +      0.91/ -      0.91\n",
      "Histogram     : mtt\n",
      " bin1 low  | bin1 high | sigma [pb]  | mc-err [pb] | pdf-unc.(symmhessian) [%]  |\n",
      "       345 |       393 |      143.29 |      1.2948 | +      0.78/ -      0.78\n",
      "       393 |       433 |      139.53 |      1.2875 | +      0.83/ -      0.83\n",
      "       433 |       481 |      134.52 |       1.277 | +      0.86/ -      0.86\n",
      "       481 |       549 |      129.59 |      1.2551 | +       1.1/ -       1.1\n",
      "       549 |       684 |      135.07 |      1.2457 | +         1/ -         1\n",
      "       684 |      2000 |      103.04 |      1.0338 | +       1.3/ -       1.3\n",
      "\n",
      "\n"
     ]
    }
   ],
   "source": [
    "jobv.show_result()"
   ]
  },
  {
   "cell_type": "code",
   "execution_count": null,
   "metadata": {},
   "outputs": [],
   "source": []
  }
 ],
 "metadata": {
  "colab": {
   "authorship_tag": "ABX9TyMaVZsuSh/SeHZ8cM3f1pKL",
   "collapsed_sections": [],
   "name": "EventDatabaseDevelop.ipynb",
   "provenance": []
  },
  "kernelspec": {
   "display_name": "Python 3",
   "language": "python",
   "name": "python3"
  },
  "language_info": {
   "codemirror_mode": {
    "name": "ipython",
    "version": 3
   },
   "file_extension": ".py",
   "mimetype": "text/x-python",
   "name": "python",
   "nbconvert_exporter": "python",
   "pygments_lexer": "ipython3",
   "version": "3.7.6"
  }
 },
 "nbformat": 4,
 "nbformat_minor": 1
}
