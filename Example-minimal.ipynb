{
 "cells": [
  {
   "cell_type": "code",
   "execution_count": null,
   "metadata": {},
   "outputs": [],
   "source": [
    "%pip install hightea-client > /dev/null\n",
    "%pip install hightea-plotting > /dev/null"
   ]
  },
  {
   "cell_type": "code",
   "execution_count": 1,
   "metadata": {},
   "outputs": [],
   "source": [
    "import numpy as np\n",
    "import matplotlib.pyplot as plt\n",
    "\n",
    "from hightea.client.apiactions import API\n",
    "from hightea.plotting import plot\n",
    "\n",
    "api = API()\n",
    "\n",
    "PROCESS = 'pp_ttx_13TeV'"
   ]
  },
  {
   "cell_type": "code",
   "execution_count": 7,
   "metadata": {},
   "outputs": [],
   "source": [
    "import numpy as np\n",
    "\n",
    "data = {\n",
    "    \"contributions\": [\"NLO\"],\n",
    "    \"custom_variables\": {\n",
    "        'mtt2':'(p_t_0+p_tbar_0)**2-(p_t_1+p_tbar_1)**2-(p_t_2+p_tbar_2)**2-(p_t_3+p_tbar_3)**2',\n",
    "        'm_{tt}':'sqrt(mtt2)',\n",
    "\n",
    "    },\n",
    "    'pdf': 'CT14nnlo',\n",
    "    'pdf_member':2,\n",
    "    'muF': '2*muF0', \n",
    "    \"binning\": [\n",
    "        {\"variable\": \"m_{tt}\" , \"bins\":list(np.linspace(0,800,11))}\n",
    "    ]\n",
    "}\n",
    "\n",
    "request = api.request_hist(PROCESS, data)"
   ]
  },
  {
   "cell_type": "code",
   "execution_count": 8,
   "metadata": {},
   "outputs": [],
   "source": [
    "res = api.wait_token_json(request['token'])"
   ]
  },
  {
   "cell_type": "code",
   "execution_count": 9,
   "metadata": {},
   "outputs": [
    {
     "data": {
      "image/png": "[encoded data removed]",
      "text/plain": [
       "<Figure size 432x288 with 1 Axes>"
      ]
     },
     "metadata": {
      "needs_background": "light"
     },
     "output_type": "display_data"
    }
   ],
   "source": [
    "plot(res)"
   ]
  }
 ],
 "metadata": {
  "kernelspec": {
   "display_name": "Python 3",
   "language": "python",
   "name": "python3"
  },
  "language_info": {
   "codemirror_mode": {
    "name": "ipython",
    "version": 3
   },
   "file_extension": ".py",
   "mimetype": "text/x-python",
   "name": "python",
   "nbconvert_exporter": "python",
   "pygments_lexer": "ipython3",
   "version": "3.7.6"
  }
 },
 "nbformat": 4,
 "nbformat_minor": 4
}
