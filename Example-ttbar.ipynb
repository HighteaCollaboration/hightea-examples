{
 "cells": [
  {
   "cell_type": "markdown",
   "metadata": {},
   "source": [
    "# Top-quark pair example analysis"
   ]
  },
  {
   "cell_type": "markdown",
   "metadata": {},
   "source": [
    "First load the hightea library and the plotting routines"
   ]
  },
  {
   "cell_type": "code",
   "execution_count": 1,
   "metadata": {},
   "outputs": [],
   "source": [
    "from hightea.client import Interface as hightea\n",
    "from hightea.plotting import plot,Run"
   ]
  },
  {
   "cell_type": "markdown",
   "metadata": {},
   "source": [
    "This is an example to perform an analysis with realistic experimental binnings by CMS."
   ]
  },
  {
   "cell_type": "markdown",
   "metadata": {},
   "source": [
    "# Download the data and load the binnings of the observables"
   ]
  },
  {
   "cell_type": "code",
   "execution_count": 2,
   "metadata": {},
   "outputs": [],
   "source": [
    "from numpy import genfromtxt"
   ]
  },
  {
   "cell_type": "code",
   "execution_count": 3,
   "metadata": {},
   "outputs": [],
   "source": [
    "import os\n",
    "def download_data(tableid):\n",
    "    cmd='wget https://www.hepdata.net/download/table/ins1663958/Table%20'+str(tableid)+'/2/csv -O data/table'+str(tableid)+'.csv'\n",
    "    os.system(cmd)\n",
    "\n",
    "#download_data(178) # pT(t_hadronic)\n",
    "#download_data(180) # |y(t_hadronic)|\n",
    "#download_data(186) # m(tt)\n",
    "#download_data(190) # |y(tt)|"
   ]
  },
  {
   "cell_type": "markdown",
   "metadata": {},
   "source": [
    "Now associate the observables we want to compute to the tables. There are top-quark pair observables and there are observables related to the top-quark which decays hadronically or the top-quark which decays leptonically. Since we the charge information we need to avarage over top-quark and anti-top-quark to compare these observables.\n",
    "\n",
    "Hightea provides the inclusive cross section. The analysis provides the cross section times the branching fraction. We need to divide this factor out when comparing hightea predictions to data."
   ]
  },
  {
   "cell_type": "code",
   "execution_count": 4,
   "metadata": {},
   "outputs": [],
   "source": [
    "BR=.2928 # Branching fraction of leptons(mu,e)+hadronic"
   ]
  },
  {
   "cell_type": "markdown",
   "metadata": {},
   "source": [
    "Relating a descriptive tag to the tables and storing them in dictionaries for simplicity"
   ]
  },
  {
   "cell_type": "code",
   "execution_count": 5,
   "metadata": {},
   "outputs": [],
   "source": [
    "obs = {\n",
    "  'ytt' :{'data':'table190.csv'},\n",
    "  'mtt' :{'data':'table186.csv'}\n",
    "}\n",
    "\n",
    "# observables which need avaraging over top and anti-top\n",
    "obs_avg = {\n",
    "  'yt' :{'data':'table180.csv'},\n",
    "  'pTt':{'data':'table178.csv'}\n",
    "}"
   ]
  },
  {
   "cell_type": "markdown",
   "metadata": {},
   "source": [
    "Extract the binning from the tables"
   ]
  },
  {
   "cell_type": "code",
   "execution_count": 6,
   "metadata": {},
   "outputs": [],
   "source": [
    "for ob in obs.keys():\n",
    "    cur_data = genfromtxt('data/'+obs[ob]['data'], delimiter=',')\n",
    "    obs[ob]['bins'] = [cur_data[1,1],*cur_data[1:,2]]\n",
    "for ob in obs_avg.keys():\n",
    "    cur_data = genfromtxt('data/'+obs_avg[ob]['data'], delimiter=',')\n",
    "    obs_avg[ob]['bins'] = [cur_data[1,1],*cur_data[1:,2]]"
   ]
  },
  {
   "cell_type": "markdown",
   "metadata": {},
   "source": [
    "# Do the Hightea analysis"
   ]
  },
  {
   "cell_type": "code",
   "execution_count": 7,
   "metadata": {},
   "outputs": [
    {
     "name": "stdout",
     "output_type": "stream",
     "text": [
      "   pp -> t tbar +X at 13 TeV with mt = 172.5 GeV \n",
      "\n",
      "Process tag       :  pp_ttx_13TeV  (use for process specification)\n",
      "Default scales    :  muR0 = HT/4, muF0 = HT/4\n",
      "Default pdf       :  NNPDF31_nnlo_as_0118 / 0\n",
      "Contributions     :  ['NNLO', 'NLO', 'LO']\n",
      "Predefined variables\n",
      "   pt_top      :  sqrt(p_t_1**2 + p_t_2**2)\n",
      "   pt_tbar     :  sqrt(p_tbar_1**2 + p_tbar_2**2)\n",
      "   y_t         :  0.5*log((p_t_0 + p_t_3)/(p_t_0 - p_t_3))\n",
      "   y_tbar      :  0.5*log((p_tbar_0 + p_tbar_3)/(p_tbar_0 - p_tbar_3))\n"
     ]
    }
   ],
   "source": [
    "job = hightea()\n",
    "job.start()\n",
    "job.process('pp_ttx_13TeV')"
   ]
  },
  {
   "cell_type": "markdown",
   "metadata": {},
   "source": [
    "First define the additional variables:"
   ]
  },
  {
   "cell_type": "code",
   "execution_count": 8,
   "metadata": {},
   "outputs": [],
   "source": [
    "job.define_new_variable('ytt'   ,'abs(0.5*log((p_t_0+p_tbar_0 + p_t_3 + p_tbar_3)/(p_t_0+p_tbar_0 - p_t_3 - p_tbar_3)))')\n",
    "job.define_new_variable('mtt'   ,'sqrt((p_t_0+p_tbar_0)**2-(p_t_1+p_tbar_1)**2-(p_t_2+p_tbar_2)**2-(p_t_3+p_tbar_3)**2)')\n",
    "job.define_new_variable('ayt'   ,'abs(0.5*log((p_t_0 + p_t_3)/(p_t_0 - p_t_3)))')\n",
    "job.define_new_variable('aytbar','abs(0.5*log((p_tbar_0 + p_tbar_3)/(p_tbar_0 - p_tbar_3)))')"
   ]
  },
  {
   "cell_type": "markdown",
   "metadata": {},
   "source": [
    "We want to compute the different observables with the already specified binning and for different orders"
   ]
  },
  {
   "cell_type": "code",
   "execution_count": 9,
   "metadata": {},
   "outputs": [],
   "source": [
    "orders = ['LO','NLO']\n",
    "for order in orders:\n",
    "    job.add_histogram()\n",
    "    job.contribution(order)\n",
    "    job.description(order+' - ytt')\n",
    "    job.binning('ytt',obs['ytt']['bins'])\n",
    "    job.scale_variation('3-point')\n",
    "    \n",
    "    job.add_histogram()\n",
    "    job.contribution(order)\n",
    "    job.description(order+' - mtt')\n",
    "    job.binning('mtt',obs['mtt']['bins'])\n",
    "    job.scale_variation('3-point')\n",
    "\n",
    "    job.add_histogram()\n",
    "    job.contribution(order)\n",
    "    job.description(order+' - ayt')\n",
    "    job.binning('ayt',obs_avg['yt']['bins'])\n",
    "    job.scale_variation('3-point')\n",
    "\n",
    "    job.add_histogram()\n",
    "    job.contribution(order)\n",
    "    job.description(order+' - aytbar')\n",
    "    job.binning('aytbar',obs_avg['yt']['bins'])\n",
    "    job.scale_variation('3-point')\n",
    "\n",
    "    job.add_histogram()\n",
    "    job.contribution(order)\n",
    "    job.description(order+' - pt_top')\n",
    "    job.binning('pt_top',obs_avg['pTt']['bins'])\n",
    "    job.scale_variation('3-point')\n",
    "    \n",
    "    job.add_histogram()\n",
    "    job.contribution(order)\n",
    "    job.description(order+' - pt_tbar')\n",
    "    job.binning('pt_tbar',obs_avg['pTt']['bins'])\n",
    "    job.scale_variation('3-point')"
   ]
  },
  {
   "cell_type": "code",
   "execution_count": 10,
   "metadata": {},
   "outputs": [
    {
     "name": "stdout",
     "output_type": "stream",
     "text": [
      "request submitted :  2021-11-15 20:50:58.318211\n",
      "request finished  :  2021-11-15 20:52:25.788814\n"
     ]
    }
   ],
   "source": [
    "job.request()"
   ]
  },
  {
   "cell_type": "code",
   "execution_count": null,
   "metadata": {
    "scrolled": false
   },
   "outputs": [],
   "source": [
    "hightea_ytt_LO   = Run(job.result(0))\n",
    "hightea_ytt_NLO  = Run(job.result(6))\n",
    "hightea_ytt_NNLO = Run(job.result(12))\n",
    "CMS_ytt = Run('data/'+obs['ytt']['data'])/BR\n",
    "\n",
    "hightea_mtt_LO   = Run(job.result(1))\n",
    "hightea_mtt_NLO  = Run(job.result(7))\n",
    "hightea_mtt_NNLO = Run(job.result(13))\n",
    "CMS_mtt = Run('data/'+obs['mtt']['data'])/BR\n",
    "\n",
    "hightea_yt_LO   = (Run(job.result(2))+Run(job.result(3)))/2.\n",
    "hightea_yt_NLO  = (Run(job.result(8))+Run(job.result(9)))/2.\n",
    "hightea_yt_NNLO = (Run(job.result(12))+Run(job.result(13)))/2.\n",
    "CMS_yt = Run('data/'+obs_avg['yt']['data'])/BR\n",
    "\n",
    "hightea_pTt_LO   = (Run(job.result(4))+Run(job.result(5)))/2.\n",
    "hightea_pTt_NLO  = (Run(job.result(10))+Run(job.result(11)))/2.\n",
    "hightea_pTt_NNLO = (Run(job.result(14))+Run(job.result(15)))/2.\n",
    "CMS_pTt = Run('data/'+obs_avg['pTt']['data'])/BR"
   ]
  },
  {
   "cell_type": "code",
   "execution_count": null,
   "metadata": {},
   "outputs": [],
   "source": [
    "plot(result_ytt_LO,result_ytt_NLO,result_ytt_NNLO,CMS_ytt,ratio=0,logscale=True)"
   ]
  },
  {
   "cell_type": "code",
   "execution_count": null,
   "metadata": {},
   "outputs": [],
   "source": [
    "plot(result_mtt_LO,result_mtt_NLO,hightea_mtt_NNLO,CMS_mtt,ratio=0,logscale=True)"
   ]
  },
  {
   "cell_type": "code",
   "execution_count": null,
   "metadata": {},
   "outputs": [],
   "source": [
    "plot(hightea_yt_LO,hightea_yt_NLO,hightea_yt_NNLO,CMS_yt,ratio=0,logscale=True)"
   ]
  },
  {
   "cell_type": "code",
   "execution_count": null,
   "metadata": {},
   "outputs": [],
   "source": [
    "plot(hightea_pTt_LO,hightea_pTt_NLO,hightea_pTt_NNLO,CMS_pTt,ratio=0,logscale=True)"
   ]
  }
 ],
 "metadata": {
  "colab": {
   "authorship_tag": "ABX9TyMaVZsuSh/SeHZ8cM3f1pKL",
   "collapsed_sections": [],
   "name": "EventDatabaseDevelop.ipynb",
   "provenance": []
  },
  "kernelspec": {
   "display_name": "Python 3",
   "language": "python",
   "name": "python3"
  },
  "language_info": {
   "codemirror_mode": {
    "name": "ipython",
    "version": 3
   },
   "file_extension": ".py",
   "mimetype": "text/x-python",
   "name": "python",
   "nbconvert_exporter": "python",
   "pygments_lexer": "ipython3",
   "version": "3.7.6"
  }
 },
 "nbformat": 4,
 "nbformat_minor": 1
}
