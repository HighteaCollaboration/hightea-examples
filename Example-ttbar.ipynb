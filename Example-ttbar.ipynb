{
 "cells": [
  {
   "cell_type": "markdown",
   "metadata": {},
   "source": [
    "# Top-quark pair example analysis"
   ]
  },
  {
   "cell_type": "code",
   "execution_count": null,
   "metadata": {},
   "outputs": [],
   "source": [
    "%pip install hightea-client > /dev/null\n",
    "%pip install hightea-plotting > /dev/null"
   ]
  },
  {
   "cell_type": "markdown",
   "metadata": {},
   "source": [
    "First load the hightea library and the plotting routines"
   ]
  },
  {
   "cell_type": "code",
   "execution_count": 1,
   "metadata": {},
   "outputs": [],
   "source": [
    "from hightea.client import Interface as hightea\n",
    "from hightea.plotting import plot,Run"
   ]
  },
  {
   "cell_type": "markdown",
   "metadata": {},
   "source": [
    "If you would like to store results and job information on your GoogleDrive (see FAQ in Start.ipynb) change the directory here:"
   ]
  },
  {
   "cell_type": "code",
   "execution_count": 2,
   "metadata": {},
   "outputs": [],
   "source": [
    "USERDIR='.'\n",
    "#from google.colab import drive\n",
    "#drive.mount('/content/drive')\n",
    "#USERDIR='/content/drive/MyDrive/hightea/'"
   ]
  },
  {
   "cell_type": "markdown",
   "metadata": {},
   "source": [
    "This is an example to perform an analysis with realistic experimental binnings by CMS."
   ]
  },
  {
   "cell_type": "markdown",
   "metadata": {},
   "source": [
    "# Download the data and load the binnings of the observables"
   ]
  },
  {
   "cell_type": "code",
   "execution_count": 3,
   "metadata": {},
   "outputs": [],
   "source": [
    "from numpy import genfromtxt"
   ]
  },
  {
   "cell_type": "code",
   "execution_count": 4,
   "metadata": {},
   "outputs": [
    {
     "name": "stdout",
     "output_type": "stream",
     "text": [
      "mkdir: cannot create directory ‘data’: File exists\r\n"
     ]
    }
   ],
   "source": [
    "!mkdir data"
   ]
  },
  {
   "cell_type": "code",
   "execution_count": 5,
   "metadata": {},
   "outputs": [],
   "source": [
    "import os\n",
    "def download_data(tableid):\n",
    "    cmd='wget https://www.hepdata.net/download/table/ins1663958/Table%20'+str(tableid)+'/2/csv -O data/table'+str(tableid)+'.csv'\n",
    "    os.system(cmd)\n",
    "\n",
    "#download_data(178) # pT(t_hadronic)\n",
    "#download_data(180) # |y(t_hadronic)|\n",
    "#download_data(186) # m(tt)\n",
    "#download_data(190) # |y(tt)|"
   ]
  },
  {
   "cell_type": "markdown",
   "metadata": {},
   "source": [
    "Now associate the observables we want to compute to the tables. There are top-quark pair observables and there are observables related to the top-quark which decays hadronically or the top-quark which decays leptonically. Since HighTEA stores the charge information we need to avarage over top-quark and anti-top-quark to compare these observables.\n",
    "\n",
    "Hightea provides the inclusive cross section. The analysis provides the cross section times the branching fraction. We need to divide this factor out when comparing hightea predictions to data."
   ]
  },
  {
   "cell_type": "code",
   "execution_count": 6,
   "metadata": {},
   "outputs": [],
   "source": [
    "BR=.2928 # Branching fraction of leptons(mu,e)+hadronic"
   ]
  },
  {
   "cell_type": "markdown",
   "metadata": {},
   "source": [
    "Relating a descriptive tag to the tables and storing them in dictionaries for simplicity"
   ]
  },
  {
   "cell_type": "code",
   "execution_count": 7,
   "metadata": {},
   "outputs": [],
   "source": [
    "obs = {\n",
    "  'ytt' :{'data':'table190.csv'},\n",
    "  'mtt' :{'data':'table186.csv'}\n",
    "}\n",
    "\n",
    "# observables which need avaraging over top and anti-top\n",
    "obs_avg = {\n",
    "  'yt' :{'data':'table180.csv'},\n",
    "  'pTt':{'data':'table178.csv'}\n",
    "}"
   ]
  },
  {
   "cell_type": "markdown",
   "metadata": {},
   "source": [
    "Extract the binning from the tables"
   ]
  },
  {
   "cell_type": "code",
   "execution_count": 8,
   "metadata": {},
   "outputs": [],
   "source": [
    "for ob in obs.keys():\n",
    "    cur_data = genfromtxt('data/'+obs[ob]['data'], delimiter=',')\n",
    "    obs[ob]['bins'] = [cur_data[1,1],*cur_data[1:,2]]\n",
    "for ob in obs_avg.keys():\n",
    "    cur_data = genfromtxt('data/'+obs_avg[ob]['data'], delimiter=',')\n",
    "    obs_avg[ob]['bins'] = [cur_data[1,1],*cur_data[1:,2]]"
   ]
  },
  {
   "cell_type": "markdown",
   "metadata": {},
   "source": [
    "# Do the Hightea analysis"
   ]
  },
  {
   "cell_type": "markdown",
   "metadata": {},
   "source": [
    "First define the additional variables:"
   ]
  },
  {
   "cell_type": "code",
   "execution_count": 9,
   "metadata": {},
   "outputs": [],
   "source": [
    "new_variables = {\n",
    "    'ytt':'abs(0.5*log((p_t_0+p_tbar_0 + p_t_3 + p_tbar_3)/(p_t_0+p_tbar_0 - p_t_3 - p_tbar_3)))',\n",
    "    'mtt':'sqrt((p_t_0+p_tbar_0)**2-(p_t_1+p_tbar_1)**2-(p_t_2+p_tbar_2)**2-(p_t_3+p_tbar_3)**2)',\n",
    "    'ayt':'abs(0.5*log((p_t_0 + p_t_3)/(p_t_0 - p_t_3)))',\n",
    "    'aytbar':'abs(0.5*log((p_tbar_0 + p_tbar_3)/(p_tbar_0 - p_tbar_3)))'\n",
    "}"
   ]
  },
  {
   "cell_type": "markdown",
   "metadata": {},
   "source": [
    "We want to compute the different observables with the already specified binning and for different orders"
   ]
  },
  {
   "cell_type": "code",
   "execution_count": 10,
   "metadata": {
    "scrolled": true
   },
   "outputs": [
    {
     "name": "stdout",
     "output_type": "stream",
     "text": [
      "request submitted :  2022-05-06 12:48:06.416108\n",
      "request finished  :  2022-05-06 12:48:19.019188\n",
      "request submitted :  2022-05-06 12:48:20.724793\n",
      "request finished  :  2022-05-06 12:48:41.593513\n",
      "request submitted :  2022-05-06 12:48:43.371233\n",
      "request finished  :  2022-05-06 13:09:23.110175\n"
     ]
    }
   ],
   "source": [
    "orders = ['LO','NLO','NNLO']\n",
    "jobs = {}\n",
    "for order in orders:\n",
    "    job = hightea('Example-ttbar-job-'+order,directory=USERDIR)\n",
    "    job.process('pp_ttx_13TeV',verbose=False)\n",
    "    \n",
    "    job.add_variable_definitions(new_variables)\n",
    "\n",
    "    job.contribution(order)\n",
    "\n",
    "    job.binning('ytt',obs['ytt']['bins'])\n",
    "    job.binning('mtt',obs['mtt']['bins'])\n",
    "    job.binning('ayt',obs_avg['yt']['bins'])\n",
    "    job.binning('aytbar',obs_avg['yt']['bins'])\n",
    "    job.binning('pt_top',obs_avg['pTt']['bins'])\n",
    "    job.binning('pt_tbar',obs_avg['pTt']['bins'])\n",
    "    \n",
    "    job.scale_variation('3-point')\n",
    "    job.request()\n",
    "    jobs[order] = job"
   ]
  },
  {
   "cell_type": "markdown",
   "metadata": {},
   "source": [
    "# Plot the results and compare to CMS"
   ]
  },
  {
   "cell_type": "code",
   "execution_count": 11,
   "metadata": {
    "scrolled": false
   },
   "outputs": [],
   "source": [
    "hightea_ytt_LO   = Run(jobs['LO'].result(),nhist=0)\n",
    "hightea_ytt_NLO  = Run(jobs['NLO'].result(),nhist=0)\n",
    "hightea_ytt_NNLO = Run(jobs['NNLO'].result(),nhist=0)\n",
    "CMS_ytt = Run('data/'+obs['ytt']['data'])/BR\n",
    "\n",
    "hightea_mtt_LO   = Run(jobs['LO'].result(),nhist=1)\n",
    "hightea_mtt_NLO  = Run(jobs['NLO'].result(),nhist=1)\n",
    "hightea_mtt_NNLO = Run(jobs['NNLO'].result(),nhist=1)\n",
    "CMS_mtt = Run('data/'+obs['mtt']['data'])/BR\n",
    "\n",
    "hightea_yt_LO   = (Run(jobs['LO'].result(),nhist=2)+Run(jobs['LO'].result(),nhist=3))/2.\n",
    "hightea_yt_NLO  = (Run(jobs['NLO'].result(),nhist=2)+Run(jobs['NLO'].result(),nhist=3))/2.\n",
    "hightea_yt_NNLO = (Run(jobs['NNLO'].result(),nhist=2)+Run(jobs['NNLO'].result(),nhist=3))/2.\n",
    "CMS_yt = Run('data/'+obs_avg['yt']['data'])/BR\n",
    "\n",
    "hightea_pTt_LO   = (Run(jobs['LO'].result(),nhist=4)+Run(jobs['LO'].result(),nhist=5))/2.\n",
    "hightea_pTt_NLO  = (Run(jobs['NLO'].result(),nhist=4)+Run(jobs['NLO'].result(),nhist=5))/2.\n",
    "hightea_pTt_NNLO = (Run(jobs['NNLO'].result(),nhist=4)+Run(jobs['NNLO'].result(),nhist=5))/2.\n",
    "\n",
    "CMS_pTt = Run('data/'+obs_avg['pTt']['data'])/BR"
   ]
  },
  {
   "cell_type": "code",
   "execution_count": 12,
   "metadata": {},
   "outputs": [
    {
     "data": {
      "image/png": "[encoded data removed]",
      "text/plain": [
       "<Figure size 432x288 with 2 Axes>"
      ]
     },
     "metadata": {
      "needs_background": "light"
     },
     "output_type": "display_data"
    }
   ],
   "source": [
    "plot(hightea_ytt_LO,hightea_ytt_NLO,hightea_ytt_NNLO,CMS_ytt,ratio=0,logscale=True);"
   ]
  },
  {
   "cell_type": "code",
   "execution_count": 13,
   "metadata": {},
   "outputs": [
    {
     "data": {
      "image/png": "[encoded data removed]",
      "text/plain": [
       "<Figure size 432x288 with 2 Axes>"
      ]
     },
     "metadata": {
      "needs_background": "light"
     },
     "output_type": "display_data"
    }
   ],
   "source": [
    "plot(hightea_mtt_LO,hightea_mtt_NLO,hightea_mtt_NNLO,CMS_mtt,ratio=0,logscale=True);"
   ]
  },
  {
   "cell_type": "code",
   "execution_count": 14,
   "metadata": {},
   "outputs": [
    {
     "name": "stderr",
     "output_type": "stream",
     "text": [
      "No handles with labels found to put in legend.\n"
     ]
    },
    {
     "data": {
      "image/png": "[encoded data removed]",
      "text/plain": [
       "<Figure size 432x288 with 2 Axes>"
      ]
     },
     "metadata": {
      "needs_background": "light"
     },
     "output_type": "display_data"
    }
   ],
   "source": [
    "plot(hightea_yt_LO,hightea_yt_NLO,hightea_yt_NNLO,CMS_yt,ratio=0,logscale=True);"
   ]
  },
  {
   "cell_type": "code",
   "execution_count": 15,
   "metadata": {},
   "outputs": [
    {
     "name": "stderr",
     "output_type": "stream",
     "text": [
      "No handles with labels found to put in legend.\n"
     ]
    },
    {
     "data": {
      "image/png": "[encoded data removed]",
      "text/plain": [
       "<Figure size 432x288 with 2 Axes>"
      ]
     },
     "metadata": {
      "needs_background": "light"
     },
     "output_type": "display_data"
    }
   ],
   "source": [
    "plot(hightea_pTt_LO,hightea_pTt_NLO,hightea_pTt_NNLO,CMS_pTt,ratio=0,logscale=True);"
   ]
  },
  {
   "cell_type": "code",
   "execution_count": null,
   "metadata": {},
   "outputs": [],
   "source": []
  }
 ],
 "metadata": {
  "colab": {
   "authorship_tag": "ABX9TyMaVZsuSh/SeHZ8cM3f1pKL",
   "collapsed_sections": [],
   "name": "Example-ttbar.ipynb",
   "provenance": []
  },
  "kernelspec": {
   "display_name": "Python 3 (ipykernel)",
   "language": "python",
   "name": "python3"
  },
  "language_info": {
   "codemirror_mode": {
    "name": "ipython",
    "version": 3
   },
   "file_extension": ".py",
   "mimetype": "text/x-python",
   "name": "python",
   "nbconvert_exporter": "python",
   "pygments_lexer": "ipython3",
   "version": "3.8.12"
  }
 },
 "nbformat": 4,
 "nbformat_minor": 1
}
