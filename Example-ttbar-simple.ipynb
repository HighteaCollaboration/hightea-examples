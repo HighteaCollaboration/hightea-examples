{
 "cells": [
  {
   "cell_type": "code",
   "execution_count": 1,
   "metadata": {
    "executionInfo": {
     "elapsed": 5413,
     "status": "ok",
     "timestamp": 1634656577675,
     "user": {
      "displayName": "Rene Poncelet",
      "photoUrl": "https://lh3.googleusercontent.com/a/default-user=s64",
      "userId": "08063036523313804008"
     },
     "user_tz": -60
    },
    "id": "mOMrNuKfrspp"
   },
   "outputs": [],
   "source": [
    "#If needed install hightea client and plotting library\n",
    "%pip install hightea-client > /dev/null\n",
    "%pip install hightea-plotting > /dev/null"
   ]
  },
  {
   "cell_type": "code",
   "execution_count": 3,
   "metadata": {},
   "outputs": [],
   "source": [
    "# execute this line to load the hightea library\n",
    "from hightea.client import Interface as hightea\n",
    "from hightea.plotting import plot"
   ]
  },
  {
   "cell_type": "markdown",
   "metadata": {},
   "source": [
    "If you would like to store results and job information on your GoogleDrive (see FAQ in Start.ipynb) change the directory here:"
   ]
  },
  {
   "cell_type": "code",
   "execution_count": null,
   "metadata": {},
   "outputs": [],
   "source": [
    "USERDIR='.'\n",
    "#from google.colab import drive\n",
    "#drive.mount('/content/drive')\n",
    "#USERDIR='/content/drive/MyDrive/hightea/'"
   ]
  },
  {
   "cell_type": "markdown",
   "metadata": {},
   "source": [
    "A simple example job"
   ]
  },
  {
   "cell_type": "code",
   "execution_count": 10,
   "metadata": {},
   "outputs": [],
   "source": [
    "job = hightea('Example-ttbar-simple-job',directory=USERDIR) # define new job\n",
    "job.process('pp_ttx_13TeV',verbose=False) # specify process for job\n",
    "job.define_new_variable('mtt',            # specify a new variable\n",
    "                        'sqrt((p_t_0+p_tbar_0)**2-(p_t_1+p_tbar_1)**2-(p_t_2+p_tbar_2)**2-(p_t_3+p_tbar_3)**2)')"
   ]
  },
  {
   "cell_type": "code",
   "execution_count": 6,
   "metadata": {},
   "outputs": [],
   "source": [
    "job.add_histogram()                                          # add a new histogram\n",
    "job.description('NLO mt = 172.5 GeV')                        # (optional) give the histogram a name\n",
    "job.contribution('NLO')                                      # specify contribution\n",
    "job.scales('mtt','mtt*2')                                    # choose renormalization and factorization scale\n",
    "job.pdf('CT14nnlo')                                          # choose pdf\n",
    "job.binning('mtt',[345, 400, 450, 500, 550, 600, 650, 700])  # specify binning: variable and bin edges\n",
    "job.scale_variation('3-point')                               # add scale variation"
   ]
  },
  {
   "cell_type": "code",
   "execution_count": 7,
   "metadata": {},
   "outputs": [
    {
     "name": "stdout",
     "output_type": "stream",
     "text": [
      "request submitted :  2021-12-01 14:42:31.290021\n",
      "request finished  :  2021-12-01 14:43:05.500179\n"
     ]
    }
   ],
   "source": [
    "job.request()"
   ]
  },
  {
   "cell_type": "code",
   "execution_count": 8,
   "metadata": {},
   "outputs": [
    {
     "data": {
      "image/png": "[encoded data removed]",
      "text/plain": [
       "<Figure size 432x288 with 1 Axes>"
      ]
     },
     "metadata": {
      "needs_background": "light"
     },
     "output_type": "display_data"
    },
    {
     "data": {
      "text/plain": [
       "<Figure size 432x288 with 0 Axes>"
      ]
     },
     "metadata": {},
     "output_type": "display_data"
    }
   ],
   "source": [
    "plot(job.result())"
   ]
  }
 ],
 "metadata": {
  "colab": {
   "authorship_tag": "ABX9TyMaVZsuSh/SeHZ8cM3f1pKL",
   "collapsed_sections": [],
   "name": "Example-ttbar-simple.ipynb",
   "provenance": []
  },
  "kernelspec": {
   "display_name": "Python 3",
   "language": "python",
   "name": "python3"
  },
  "language_info": {
   "codemirror_mode": {
    "name": "ipython",
    "version": 3
   },
   "file_extension": ".py",
   "mimetype": "text/x-python",
   "name": "python",
   "nbconvert_exporter": "python",
   "pygments_lexer": "ipython3",
   "version": "3.7.6"
  }
 },
 "nbformat": 4,
 "nbformat_minor": 1
}
