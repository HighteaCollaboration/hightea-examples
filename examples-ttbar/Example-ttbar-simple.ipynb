{
 "cells": [
  {
   "cell_type": "code",
   "execution_count": null,
   "metadata": {
    "executionInfo": {
     "elapsed": 5413,
     "status": "ok",
     "timestamp": 1634656577675,
     "user": {
      "displayName": "Rene Poncelet",
      "photoUrl": "https://lh3.googleusercontent.com/a/default-user=s64",
      "userId": "08063036523313804008"
     },
     "user_tz": -60
    },
    "id": "mOMrNuKfrspp"
   },
   "outputs": [],
   "source": [
    "#If needed install hightea client and plotting library\n",
    "%pip install hightea-client > /dev/null\n",
    "%pip install hightea-plotting > /dev/null"
   ]
  },
  {
   "cell_type": "code",
   "execution_count": 1,
   "metadata": {},
   "outputs": [],
   "source": [
    "# execute this line to load the hightea library\n",
    "from hightea.client import Interface as hightea\n",
    "from hightea.plotting import plot,Run"
   ]
  },
  {
   "cell_type": "markdown",
   "metadata": {},
   "source": [
    "If you would like to store results and job information on your GoogleDrive (see FAQ in Start.ipynb) change the directory here:"
   ]
  },
  {
   "cell_type": "code",
   "execution_count": 2,
   "metadata": {},
   "outputs": [],
   "source": [
    "USERDIR='.'\n",
    "#from google.colab import drive\n",
    "#drive.mount('/content/drive')\n",
    "#USERDIR='/content/drive/MyDrive/hightea/'"
   ]
  },
  {
   "cell_type": "markdown",
   "metadata": {},
   "source": [
    "A simple example job"
   ]
  },
  {
   "cell_type": "code",
   "execution_count": 3,
   "metadata": {},
   "outputs": [],
   "source": [
    "job = hightea('Example-ttbar-simple-job',directory=USERDIR)     # define new job\n",
    "job.process('pp_tt_13000_172.5',verbose=False)                  # specify process for job\n",
    "job.define_new_variable('mtt',                                  # specify a new variable\n",
    "                        'sqrt((p_t_0+p_tbar_0)**2-(p_t_1+p_tbar_1)**2-(p_t_2+p_tbar_2)**2-(p_t_3+p_tbar_3)**2)')"
   ]
  },
  {
   "cell_type": "code",
   "execution_count": 4,
   "metadata": {},
   "outputs": [],
   "source": [
    "job.contribution('NLO')                                        # specify contribution\n",
    "job.scales('mtt','mtt*2')                                       # choose renormalization and factorization scale\n",
    "job.pdf('CT14nnlo')                                             # choose pdf\n",
    "job.observable('mtt',[345, 400, 450, 500, 550, 600, 650, 700])  # specify binning: variable and bin edges\n",
    "job.scale_variation('3-point')                                  # add scale variation"
   ]
  },
  {
   "cell_type": "code",
   "execution_count": 5,
   "metadata": {},
   "outputs": [
    {
     "name": "stdout",
     "output_type": "stream",
     "text": [
      "request submitted :  2022-12-13 09:59:11.654458\n",
      "request finished  :  2022-12-13 09:59:24.857235\n"
     ]
    }
   ],
   "source": [
    "job.request()"
   ]
  },
  {
   "cell_type": "code",
   "execution_count": 6,
   "metadata": {},
   "outputs": [
    {
     "data": {
      "image/png": "[encoded data removed]",
      "text/plain": [
       "<Figure size 432x288 with 1 Axes>"
      ]
     },
     "metadata": {
      "needs_background": "light"
     },
     "output_type": "display_data"
    }
   ],
   "source": [
    "plot(job.result());"
   ]
  },
  {
   "cell_type": "code",
   "execution_count": 7,
   "metadata": {},
   "outputs": [
    {
     "name": "stdout",
     "output_type": "stream",
     "text": [
      "Name                    :  Example-ttbar-simple-job\n",
      "Contributions           :  ['NLO']\n",
      "muR                     :  mtt\n",
      "muF                     :  mtt*2\n",
      "pdf                     :  CT14nnlo , 0\n",
      "fiducial xsection       :       590.98\n",
      "fiducial xsection error :       2.3171\n",
      "systematic unc. [%]     : scale (3)\n",
      "                        :  +       14/ -       13\n",
      "Histogram     : mtt\n",
      " bin1 low  | bin1 high | sigma [pb]  | mc-err [pb] |         scale (3) [%] |\n",
      "       345 |       400 |      130.84 |      1.0565 | +       14/ -       12|\n",
      "       400 |       450 |      129.29 |        1.07 | +       14/ -       12|\n",
      "       450 |       500 |      95.029 |     0.78824 | +       14/ -       13|\n",
      "       500 |       550 |      68.062 |     0.61836 | +       13/ -       12|\n",
      "       550 |       600 |      47.644 |     0.48094 | +       15/ -       13|\n",
      "       600 |       650 |      33.214 |     0.45166 | +       15/ -       13|\n",
      "       650 |       700 |      23.348 |       0.302 | +       16/ -       14|\n",
      "\n",
      "\n"
     ]
    }
   ],
   "source": [
    "job.show_result()"
   ]
  },
  {
   "cell_type": "code",
   "execution_count": null,
   "metadata": {},
   "outputs": [],
   "source": []
  }
 ],
 "metadata": {
  "colab": {
   "authorship_tag": "ABX9TyMaVZsuSh/SeHZ8cM3f1pKL",
   "collapsed_sections": [],
   "name": "Example-ttbar-simple.ipynb",
   "provenance": []
  },
  "kernelspec": {
   "display_name": "Python 3",
   "language": "python",
   "name": "python3"
  },
  "language_info": {
   "codemirror_mode": {
    "name": "ipython",
    "version": 3
   },
   "file_extension": ".py",
   "mimetype": "text/x-python",
   "name": "python",
   "nbconvert_exporter": "python",
   "pygments_lexer": "ipython3",
   "version": "3.7.10"
  }
 },
 "nbformat": 4,
 "nbformat_minor": 1
}
